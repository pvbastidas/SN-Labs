{
 "cells": [
  {
   "cell_type": "markdown",
   "id": "73063d5e-0e17-4174-b8db-6b13ca464c97",
   "metadata": {},
   "source": [
    "# Data Science Tools and Ecosystem"
   ]
  },
  {
   "cell_type": "markdown",
   "id": "68ddcb96-f7bf-4bb7-8494-c0a9cfe9ddd4",
   "metadata": {},
   "source": [
    "**Objectives**\n",
    "  \n",
    "List popular languages for Data Science\n",
    "  \n",
    "   * Python.\n",
    "   * C++\n",
    "   * Java\n",
    "   * JavaScript\n",
    "   * R\n",
    "     \n"
   ]
  },
  {
   "cell_type": "markdown",
   "id": "57308b95-b065-4e85-bb5f-37cec6488f6f",
   "metadata": {},
   "source": [
    "In this notebook, Data Science Tools and Ecosystem are summarized."
   ]
  },
  {
   "cell_type": "markdown",
   "id": "41496bfa-d129-44c7-b693-259772825bb5",
   "metadata": {},
   "source": [
    "Some of the popular languages that Data Scientists use are:\n",
    "1. Python\n",
    "2. R\n",
    "3. Java\n"
   ]
  },
  {
   "cell_type": "markdown",
   "id": "12243ed6-0cbb-4ca2-937c-5fad65cffdef",
   "metadata": {},
   "source": [
    "Some of the commonly used libraries used by Data Scientists include:\n",
    "1. Pandas\n",
    "2. Numpy\n",
    "3. Scipy"
   ]
  },
  {
   "cell_type": "markdown",
   "id": "99d87a2e-179b-420b-9046-0e49e845d434",
   "metadata": {},
   "source": [
    "| Data Science Tools  |\n",
    "|---|\n",
    "| apache spark  |\n",
    "| apache airflow  |\n",
    "| apache kafka |"
   ]
  },
  {
   "cell_type": "markdown",
   "id": "c55fe53d-03b3-4bef-a584-2f7785276b51",
   "metadata": {},
   "source": [
    "### Below are a few examples of evaluating arithmetic expressions in Python"
   ]
  },
  {
   "cell_type": "code",
   "execution_count": 1,
   "id": "e7f3df5d-3b4e-4353-a612-c132da8b350d",
   "metadata": {},
   "outputs": [
    {
     "name": "stdout",
     "output_type": "stream",
     "text": [
      "17\n"
     ]
    }
   ],
   "source": [
    "#This a simple arithmetic expression to mutiply then add integers\n",
    "print ((3*4)+5)"
   ]
  },
  {
   "cell_type": "code",
   "execution_count": 2,
   "id": "60004cfb-0c8b-434a-ae41-c7af494942bb",
   "metadata": {},
   "outputs": [
    {
     "name": "stdout",
     "output_type": "stream",
     "text": [
      "3.3333333333333335\n"
     ]
    }
   ],
   "source": [
    "#This will convert 200 minutes to hours by diving by 60\n",
    "print (200/60) "
   ]
  },
  {
   "cell_type": "markdown",
   "id": "e58bd1a1-7d97-4a5d-ae81-fb85d333327d",
   "metadata": {},
   "source": [
    "<details><summary>Author</summary>\n",
    "\n",
    "Pablo Bastidas\n"
   ]
  },
  {
   "cell_type": "markdown",
   "id": "f57b0732-2254-4509-a3be-d14235e38af6",
   "metadata": {},
   "source": []
  }
 ],
 "metadata": {
  "kernelspec": {
   "display_name": "Python 3 (ipykernel)",
   "language": "python",
   "name": "python3"
  },
  "language_info": {
   "codemirror_mode": {
    "name": "ipython",
    "version": 3
   },
   "file_extension": ".py",
   "mimetype": "text/x-python",
   "name": "python",
   "nbconvert_exporter": "python",
   "pygments_lexer": "ipython3",
   "version": "3.10.4"
  }
 },
 "nbformat": 4,
 "nbformat_minor": 5
}
